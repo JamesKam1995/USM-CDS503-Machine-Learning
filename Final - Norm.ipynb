{
 "cells": [
  {
   "cell_type": "code",
   "execution_count": 1,
   "id": "5d26a62d",
   "metadata": {},
   "outputs": [],
   "source": [
    "import pandas as pd \n",
    "df = pd.read_csv('Norm-PHO-Binary.csv')"
   ]
  },
  {
   "cell_type": "code",
   "execution_count": 2,
   "id": "6c1fced6",
   "metadata": {},
   "outputs": [
    {
     "data": {
      "text/html": [
       "<div>\n",
       "<style scoped>\n",
       "    .dataframe tbody tr th:only-of-type {\n",
       "        vertical-align: middle;\n",
       "    }\n",
       "\n",
       "    .dataframe tbody tr th {\n",
       "        vertical-align: top;\n",
       "    }\n",
       "\n",
       "    .dataframe thead th {\n",
       "        text-align: right;\n",
       "    }\n",
       "</style>\n",
       "<table border=\"1\" class=\"dataframe\">\n",
       "  <thead>\n",
       "    <tr style=\"text-align: right;\">\n",
       "      <th></th>\n",
       "      <th>Gender</th>\n",
       "      <th>Emotion_Joy</th>\n",
       "      <th>Emotion_Sadness</th>\n",
       "      <th>Emotion_Anger</th>\n",
       "      <th>Emotion_Disgust</th>\n",
       "      <th>Emotion_Fear</th>\n",
       "      <th>Emotion_Surprise</th>\n",
       "      <th>Emotion_Contempt</th>\n",
       "      <th>Emotion_Neutral</th>\n",
       "      <th>Depression</th>\n",
       "    </tr>\n",
       "  </thead>\n",
       "  <tbody>\n",
       "    <tr>\n",
       "      <th>0</th>\n",
       "      <td>Female</td>\n",
       "      <td>4.00</td>\n",
       "      <td>3.0</td>\n",
       "      <td>2.0</td>\n",
       "      <td>1.0</td>\n",
       "      <td>0.00</td>\n",
       "      <td>2.00</td>\n",
       "      <td>2.0</td>\n",
       "      <td>1.0</td>\n",
       "      <td>NO</td>\n",
       "    </tr>\n",
       "    <tr>\n",
       "      <th>1</th>\n",
       "      <td>Female</td>\n",
       "      <td>8.00</td>\n",
       "      <td>0.0</td>\n",
       "      <td>2.0</td>\n",
       "      <td>0.0</td>\n",
       "      <td>1.00</td>\n",
       "      <td>0.00</td>\n",
       "      <td>0.0</td>\n",
       "      <td>4.0</td>\n",
       "      <td>NO</td>\n",
       "    </tr>\n",
       "    <tr>\n",
       "      <th>2</th>\n",
       "      <td>Male</td>\n",
       "      <td>1.67</td>\n",
       "      <td>0.0</td>\n",
       "      <td>0.0</td>\n",
       "      <td>0.0</td>\n",
       "      <td>6.17</td>\n",
       "      <td>0.67</td>\n",
       "      <td>0.0</td>\n",
       "      <td>6.5</td>\n",
       "      <td>NO</td>\n",
       "    </tr>\n",
       "    <tr>\n",
       "      <th>3</th>\n",
       "      <td>Male</td>\n",
       "      <td>7.00</td>\n",
       "      <td>0.0</td>\n",
       "      <td>3.0</td>\n",
       "      <td>0.0</td>\n",
       "      <td>0.00</td>\n",
       "      <td>5.00</td>\n",
       "      <td>0.0</td>\n",
       "      <td>0.0</td>\n",
       "      <td>NO</td>\n",
       "    </tr>\n",
       "    <tr>\n",
       "      <th>4</th>\n",
       "      <td>Male</td>\n",
       "      <td>3.00</td>\n",
       "      <td>2.0</td>\n",
       "      <td>1.0</td>\n",
       "      <td>0.0</td>\n",
       "      <td>2.00</td>\n",
       "      <td>1.00</td>\n",
       "      <td>0.0</td>\n",
       "      <td>6.0</td>\n",
       "      <td>YES</td>\n",
       "    </tr>\n",
       "  </tbody>\n",
       "</table>\n",
       "</div>"
      ],
      "text/plain": [
       "   Gender  Emotion_Joy  Emotion_Sadness  Emotion_Anger  Emotion_Disgust  \\\n",
       "0  Female         4.00              3.0            2.0              1.0   \n",
       "1  Female         8.00              0.0            2.0              0.0   \n",
       "2    Male         1.67              0.0            0.0              0.0   \n",
       "3    Male         7.00              0.0            3.0              0.0   \n",
       "4    Male         3.00              2.0            1.0              0.0   \n",
       "\n",
       "   Emotion_Fear  Emotion_Surprise  Emotion_Contempt  Emotion_Neutral  \\\n",
       "0          0.00              2.00               2.0              1.0   \n",
       "1          1.00              0.00               0.0              4.0   \n",
       "2          6.17              0.67               0.0              6.5   \n",
       "3          0.00              5.00               0.0              0.0   \n",
       "4          2.00              1.00               0.0              6.0   \n",
       "\n",
       "  Depression  \n",
       "0         NO  \n",
       "1         NO  \n",
       "2         NO  \n",
       "3         NO  \n",
       "4        YES  "
      ]
     },
     "execution_count": 2,
     "metadata": {},
     "output_type": "execute_result"
    }
   ],
   "source": [
    "df.head()"
   ]
  },
  {
   "cell_type": "code",
   "execution_count": 3,
   "id": "4093b09f",
   "metadata": {},
   "outputs": [
    {
     "name": "stdout",
     "output_type": "stream",
     "text": [
      "<class 'pandas.core.frame.DataFrame'>\n",
      "RangeIndex: 291 entries, 0 to 290\n",
      "Data columns (total 10 columns):\n",
      " #   Column            Non-Null Count  Dtype  \n",
      "---  ------            --------------  -----  \n",
      " 0   Gender            291 non-null    object \n",
      " 1   Emotion_Joy       291 non-null    float64\n",
      " 2   Emotion_Sadness   291 non-null    float64\n",
      " 3   Emotion_Anger     291 non-null    float64\n",
      " 4   Emotion_Disgust   291 non-null    float64\n",
      " 5   Emotion_Fear      291 non-null    float64\n",
      " 6   Emotion_Surprise  291 non-null    float64\n",
      " 7   Emotion_Contempt  291 non-null    float64\n",
      " 8   Emotion_Neutral   291 non-null    float64\n",
      " 9   Depression        291 non-null    object \n",
      "dtypes: float64(8), object(2)\n",
      "memory usage: 22.9+ KB\n"
     ]
    }
   ],
   "source": [
    "df.info()"
   ]
  },
  {
   "cell_type": "code",
   "execution_count": 4,
   "id": "f805abf2",
   "metadata": {},
   "outputs": [],
   "source": [
    "from sklearn import preprocessing\n",
    "le = preprocessing.LabelEncoder()\n",
    "df['Depression'] = le.fit_transform(df['Depression'])"
   ]
  },
  {
   "cell_type": "code",
   "execution_count": 5,
   "id": "d9ea1dea",
   "metadata": {},
   "outputs": [
    {
     "data": {
      "text/html": [
       "<div>\n",
       "<style scoped>\n",
       "    .dataframe tbody tr th:only-of-type {\n",
       "        vertical-align: middle;\n",
       "    }\n",
       "\n",
       "    .dataframe tbody tr th {\n",
       "        vertical-align: top;\n",
       "    }\n",
       "\n",
       "    .dataframe thead th {\n",
       "        text-align: right;\n",
       "    }\n",
       "</style>\n",
       "<table border=\"1\" class=\"dataframe\">\n",
       "  <thead>\n",
       "    <tr style=\"text-align: right;\">\n",
       "      <th></th>\n",
       "      <th>Emotion_Joy</th>\n",
       "      <th>Emotion_Sadness</th>\n",
       "      <th>Emotion_Anger</th>\n",
       "      <th>Emotion_Disgust</th>\n",
       "      <th>Emotion_Fear</th>\n",
       "      <th>Emotion_Surprise</th>\n",
       "      <th>Emotion_Contempt</th>\n",
       "      <th>Emotion_Neutral</th>\n",
       "      <th>Depression</th>\n",
       "      <th>Gender_Female</th>\n",
       "      <th>Gender_Male</th>\n",
       "    </tr>\n",
       "  </thead>\n",
       "  <tbody>\n",
       "    <tr>\n",
       "      <th>0</th>\n",
       "      <td>4.00</td>\n",
       "      <td>3.0</td>\n",
       "      <td>2.0</td>\n",
       "      <td>1.0</td>\n",
       "      <td>0.00</td>\n",
       "      <td>2.00</td>\n",
       "      <td>2.0</td>\n",
       "      <td>1.0</td>\n",
       "      <td>0</td>\n",
       "      <td>1</td>\n",
       "      <td>0</td>\n",
       "    </tr>\n",
       "    <tr>\n",
       "      <th>1</th>\n",
       "      <td>8.00</td>\n",
       "      <td>0.0</td>\n",
       "      <td>2.0</td>\n",
       "      <td>0.0</td>\n",
       "      <td>1.00</td>\n",
       "      <td>0.00</td>\n",
       "      <td>0.0</td>\n",
       "      <td>4.0</td>\n",
       "      <td>0</td>\n",
       "      <td>1</td>\n",
       "      <td>0</td>\n",
       "    </tr>\n",
       "    <tr>\n",
       "      <th>2</th>\n",
       "      <td>1.67</td>\n",
       "      <td>0.0</td>\n",
       "      <td>0.0</td>\n",
       "      <td>0.0</td>\n",
       "      <td>6.17</td>\n",
       "      <td>0.67</td>\n",
       "      <td>0.0</td>\n",
       "      <td>6.5</td>\n",
       "      <td>0</td>\n",
       "      <td>0</td>\n",
       "      <td>1</td>\n",
       "    </tr>\n",
       "    <tr>\n",
       "      <th>3</th>\n",
       "      <td>7.00</td>\n",
       "      <td>0.0</td>\n",
       "      <td>3.0</td>\n",
       "      <td>0.0</td>\n",
       "      <td>0.00</td>\n",
       "      <td>5.00</td>\n",
       "      <td>0.0</td>\n",
       "      <td>0.0</td>\n",
       "      <td>0</td>\n",
       "      <td>0</td>\n",
       "      <td>1</td>\n",
       "    </tr>\n",
       "    <tr>\n",
       "      <th>4</th>\n",
       "      <td>3.00</td>\n",
       "      <td>2.0</td>\n",
       "      <td>1.0</td>\n",
       "      <td>0.0</td>\n",
       "      <td>2.00</td>\n",
       "      <td>1.00</td>\n",
       "      <td>0.0</td>\n",
       "      <td>6.0</td>\n",
       "      <td>1</td>\n",
       "      <td>0</td>\n",
       "      <td>1</td>\n",
       "    </tr>\n",
       "  </tbody>\n",
       "</table>\n",
       "</div>"
      ],
      "text/plain": [
       "   Emotion_Joy  Emotion_Sadness  Emotion_Anger  Emotion_Disgust  Emotion_Fear  \\\n",
       "0         4.00              3.0            2.0              1.0          0.00   \n",
       "1         8.00              0.0            2.0              0.0          1.00   \n",
       "2         1.67              0.0            0.0              0.0          6.17   \n",
       "3         7.00              0.0            3.0              0.0          0.00   \n",
       "4         3.00              2.0            1.0              0.0          2.00   \n",
       "\n",
       "   Emotion_Surprise  Emotion_Contempt  Emotion_Neutral  Depression  \\\n",
       "0              2.00               2.0              1.0           0   \n",
       "1              0.00               0.0              4.0           0   \n",
       "2              0.67               0.0              6.5           0   \n",
       "3              5.00               0.0              0.0           0   \n",
       "4              1.00               0.0              6.0           1   \n",
       "\n",
       "   Gender_Female  Gender_Male  \n",
       "0              1            0  \n",
       "1              1            0  \n",
       "2              0            1  \n",
       "3              0            1  \n",
       "4              0            1  "
      ]
     },
     "execution_count": 5,
     "metadata": {},
     "output_type": "execute_result"
    }
   ],
   "source": [
    "df = pd.get_dummies(df, prefix = ['Gender'], columns = ['Gender'])\n",
    "df.head()"
   ]
  },
  {
   "cell_type": "code",
   "execution_count": 6,
   "id": "11ce2d41",
   "metadata": {},
   "outputs": [
    {
     "data": {
      "text/plain": [
       "0    155\n",
       "1    136\n",
       "Name: Depression, dtype: int64"
      ]
     },
     "execution_count": 6,
     "metadata": {},
     "output_type": "execute_result"
    }
   ],
   "source": [
    "df['Depression'].value_counts()"
   ]
  },
  {
   "cell_type": "code",
   "execution_count": 7,
   "id": "b1e199b6",
   "metadata": {},
   "outputs": [],
   "source": [
    "target = df['Depression']"
   ]
  },
  {
   "cell_type": "code",
   "execution_count": 8,
   "id": "d2b3fa34",
   "metadata": {},
   "outputs": [],
   "source": [
    "features = df.drop('Depression', axis = 1)"
   ]
  },
  {
   "cell_type": "code",
   "execution_count": 24,
   "id": "c920512f",
   "metadata": {},
   "outputs": [
    {
     "name": "stdout",
     "output_type": "stream",
     "text": [
      "Accuracy (Validation) =  0.4744827586206896\n",
      "f1 (Validation) =  0.4252141732119485\n",
      "precision (Validation) =  0.45443510737628384\n",
      "recall (Validation) =  0.4928571428571429\n"
     ]
    }
   ],
   "source": [
    "from sklearn.dummy import DummyClassifier\n",
    "uniform_cls = DummyClassifier(strategy = 'uniform').fit(features, target)\n",
    "from sklearn.model_selection import cross_val_score\n",
    "validation_f1 = cross_val_score(uniform_cls, features, target, scoring = 'f1', cv =10).mean()\n",
    "validation_precision = cross_val_score(uniform_cls, features, target, scoring = 'precision', cv =10).mean()\n",
    "validation_recall = cross_val_score(uniform_cls, features, target, scoring = 'recall', cv =10).mean()\n",
    "validation_accuracy = cross_val_score(uniform_cls, features, target, scoring = 'accuracy', cv =10).mean()\n",
    "print(\"Accuracy (Validation) = \", validation_accuracy)\n",
    "print(\"f1 (Validation) = \", validation_f1)\n",
    "print(\"precision (Validation) = \", validation_precision)\n",
    "print(\"recall (Validation) = \", validation_recall)"
   ]
  },
  {
   "cell_type": "code",
   "execution_count": 11,
   "id": "9016880d",
   "metadata": {},
   "outputs": [
    {
     "name": "stdout",
     "output_type": "stream",
     "text": [
      "2 : 0.5430798299480397\n",
      "3 : 0.5257731958762887\n",
      "4 : 0.5052796803652968\n",
      "5 : 0.518936294564582\n",
      "6 : 0.5261479591836734\n",
      "7 : 0.5465405674464908\n",
      "8 : 0.5292792792792793\n",
      "9 : 0.5293560606060606\n",
      "10 : 0.5289655172413793\n",
      "11 : 0.5365190365190364\n",
      "12 : 0.5397222222222222\n",
      "13 : 0.5161143204621464\n",
      "14 : 0.5535714285714286\n",
      "15 : 0.5398245614035087\n",
      "16 : 0.5460526315789473\n",
      "17 : 0.5426758938869665\n",
      "18 : 0.5494281045751634\n",
      "19 : 0.5291666666666666\n",
      "20 : 0.5302380952380952\n",
      "21 : 0.5434327577184719\n",
      "22 : 0.535964035964036\n",
      "23 : 0.5437569676700111\n",
      "24 : 0.5427350427350427\n",
      "25 : 0.54\n",
      "26 : 0.5425407925407926\n",
      "27 : 0.5434343434343435\n",
      "28 : 0.5399350649350649\n",
      "29 : 0.5498432601880878\n",
      "30 : 0.55\n"
     ]
    }
   ],
   "source": [
    "#determine the best crossfold \n",
    "from sklearn.neighbors import KNeighborsClassifier\n",
    "C = []\n",
    "validation_score = []\n",
    "for c in range (2,31):\n",
    "    knn = KNeighborsClassifier(n_neighbors = 1)\n",
    "    validation = cross_val_score(knn, features, target, scoring = 'accuracy', cv = c).mean()\n",
    "    validation_score.append(validation)\n",
    "    C.append(c)\n",
    "C_score = dict(zip(C, validation_score))\n",
    "for keys, values in C_score.items():\n",
    "    print(keys, \":\", values)"
   ]
  },
  {
   "cell_type": "code",
   "execution_count": 13,
   "id": "c3922241",
   "metadata": {},
   "outputs": [
    {
     "data": {
      "text/plain": [
       "<matplotlib.collections.PathCollection at 0x1e5b95d8640>"
      ]
     },
     "execution_count": 13,
     "metadata": {},
     "output_type": "execute_result"
    },
    {
     "data": {
      "image/png": "[encoded data removed]",
      "text/plain": [
       "<Figure size 720x576 with 1 Axes>"
      ]
     },
     "metadata": {
      "needs_background": "light"
     },
     "output_type": "display_data"
    }
   ],
   "source": [
    "import matplotlib.pyplot as plt\n",
    "plt.rcParams.update({'font.size' : 20, 'figure.figsize': (10, 8)})\n",
    "plt.scatter(C, validation_score, color ='g')"
   ]
  },
  {
   "cell_type": "markdown",
   "id": "a2b59ef6",
   "metadata": {},
   "source": [
    "The best cv is 14 in KNN"
   ]
  },
  {
   "cell_type": "code",
   "execution_count": 14,
   "id": "862a890f",
   "metadata": {},
   "outputs": [
    {
     "name": "stdout",
     "output_type": "stream",
     "text": [
      "1 : 0.5535714285714286\n",
      "2 : 0.5362244897959183\n",
      "3 : 0.5290816326530613\n",
      "4 : 0.5562925170068028\n",
      "5 : 0.5525510204081633\n",
      "6 : 0.5596938775510204\n",
      "7 : 0.555952380952381\n",
      "8 : 0.5496598639455782\n",
      "9 : 0.5489795918367346\n",
      "10 : 0.5491496598639456\n",
      "11 : 0.5523809523809524\n",
      "12 : 0.573469387755102\n",
      "13 : 0.5938775510204082\n",
      "14 : 0.5767006802721087\n",
      "15 : 0.586904761904762\n",
      "16 : 0.5763605442176871\n",
      "17 : 0.5899659863945578\n",
      "18 : 0.5693877551020409\n",
      "19 : 0.5899659863945578\n",
      "20 : 0.5763605442176871\n",
      "21 : 0.5863945578231292\n",
      "22 : 0.5795918367346938\n",
      "23 : 0.5899659863945578\n",
      "24 : 0.5933673469387755\n",
      "25 : 0.6001700680272108\n",
      "26 : 0.566156462585034\n",
      "27 : 0.5663265306122449\n",
      "28 : 0.5870748299319727\n",
      "29 : 0.6003401360544218\n",
      "30 : 0.5833333333333334\n"
     ]
    }
   ],
   "source": [
    "#KNN, cv = 14\n",
    "from sklearn.neighbors import KNeighborsClassifier\n",
    "K = []\n",
    "Validation = []\n",
    "for k in range (1,31):\n",
    "    knn = KNeighborsClassifier(n_neighbors = k)\n",
    "    validation = cross_val_score(knn, features, target, scoring = 'accuracy', cv =14).mean()\n",
    "    Validation.append(validation)\n",
    "    K.append(k)\n",
    "knn_score = dict(zip(K, Validation))\n",
    "for keys, values in knn_score.items():\n",
    "    print(keys, \":\", values)"
   ]
  },
  {
   "cell_type": "code",
   "execution_count": 15,
   "id": "1e46ad02",
   "metadata": {},
   "outputs": [
    {
     "data": {
      "text/plain": [
       "<matplotlib.collections.PathCollection at 0x1e5b99128b0>"
      ]
     },
     "execution_count": 15,
     "metadata": {},
     "output_type": "execute_result"
    },
    {
     "data": {
      "image/png": "[encoded data removed]",
      "text/plain": [
       "<Figure size 720x576 with 1 Axes>"
      ]
     },
     "metadata": {
      "needs_background": "light"
     },
     "output_type": "display_data"
    }
   ],
   "source": [
    "import matplotlib.pyplot as plt\n",
    "plt.rcParams.update({'font.size' : 20, 'figure.figsize': (10, 8)})\n",
    "plt.scatter(K, Validation, color ='g')"
   ]
  },
  {
   "cell_type": "markdown",
   "id": "23d8fb7e",
   "metadata": {},
   "source": [
    "the best K value is 29 in KNN"
   ]
  },
  {
   "cell_type": "code",
   "execution_count": 16,
   "id": "4672b3ff",
   "metadata": {},
   "outputs": [
    {
     "name": "stdout",
     "output_type": "stream",
     "text": [
      "Accuracy (Validation) =  0.6003401360544218\n",
      "f1 (Validation) =  0.5851864132380641\n",
      "precision (Validation) =  0.5687788402074117\n",
      "recall (Validation) =  0.61984126984127\n"
     ]
    }
   ],
   "source": [
    "knn = KNeighborsClassifier(n_neighbors = 29)\n",
    "validation_f1 = cross_val_score(knn, features, target, scoring = 'f1', cv =14).mean()\n",
    "validation_precision = cross_val_score(knn, features, target, scoring = 'precision', cv =14).mean()\n",
    "validation_recall = cross_val_score(knn, features, target, scoring = 'recall', cv =14).mean()\n",
    "validation_accuracy = cross_val_score(knn, features, target, scoring = 'accuracy', cv =14).mean()\n",
    "print(\"Accuracy (Validation) = \", validation_accuracy)\n",
    "print(\"f1 (Validation) = \", validation_f1)\n",
    "print(\"precision (Validation) = \", validation_precision)\n",
    "print(\"recall (Validation) = \", validation_recall)"
   ]
  },
  {
   "cell_type": "code",
   "execution_count": 18,
   "id": "077de718",
   "metadata": {},
   "outputs": [
    {
     "name": "stdout",
     "output_type": "stream",
     "text": [
      "2 : 0.5601558809636278\n",
      "3 : 0.5945017182130584\n",
      "4 : 0.5532724505327244\n",
      "5 : 0.5669199298655757\n",
      "6 : 0.5737670068027211\n",
      "7 : 0.5842044134727062\n",
      "8 : 0.5672860360360361\n",
      "9 : 0.5596590909090909\n",
      "10 : 0.5670114942528736\n",
      "11 : 0.5603470603470604\n",
      "12 : 0.5741666666666667\n",
      "13 : 0.5779872301611433\n",
      "14 : 0.5802721088435374\n",
      "15 : 0.5638596491228072\n",
      "16 : 0.5635964912280702\n",
      "17 : 0.5840061514802001\n",
      "18 : 0.573733660130719\n",
      "19 : 0.5736842105263158\n",
      "20 : 0.5666666666666667\n",
      "21 : 0.576661433804291\n",
      "22 : 0.5741758241758241\n",
      "23 : 0.5632664437012262\n",
      "24 : 0.5707799145299145\n",
      "25 : 0.5836363636363636\n",
      "26 : 0.5664335664335665\n",
      "27 : 0.5592592592592592\n",
      "28 : 0.5646103896103897\n",
      "29 : 0.5633228840125392\n"
     ]
    }
   ],
   "source": [
    "from sklearn.naive_bayes import BernoulliNB\n",
    "C = []\n",
    "validation_score = []\n",
    "for c in range (2,30):\n",
    "    bnb = BernoulliNB(binarize = 0.0)\n",
    "    validation = cross_val_score(bnb, features, target, cv = c, scoring ='accuracy').mean()\n",
    "    validation_score.append(validation)\n",
    "    C.append(c)\n",
    "C_score = dict(zip(C, validation_score))\n",
    "for keys, values in C_score.items():\n",
    "    print(keys, \":\", values)"
   ]
  },
  {
   "cell_type": "markdown",
   "id": "922bc254",
   "metadata": {},
   "source": [
    "The best cv is 2 in Naive Bayes"
   ]
  },
  {
   "cell_type": "code",
   "execution_count": 19,
   "id": "3df9df4f",
   "metadata": {},
   "outputs": [
    {
     "name": "stdout",
     "output_type": "stream",
     "text": [
      "Accuracy (Validation) =  0.5601558809636278\n",
      "f1 (Validation) =  0.536158452326117\n",
      "precision (Validation) =  0.5330859616573902\n",
      "recall (Validation) =  0.5735294117647058\n"
     ]
    }
   ],
   "source": [
    "bnb.fit(features, target)\n",
    "validation_f1 = cross_val_score(bnb, features, target, scoring = 'f1', cv =2).mean()\n",
    "validation_precision = cross_val_score(bnb, features, target, scoring = 'precision', cv =2).mean()\n",
    "validation_recall = cross_val_score(bnb, features, target, scoring = 'recall', cv =2).mean()\n",
    "validation_accuracy = cross_val_score(bnb, features, target, scoring = 'accuracy', cv =2).mean()\n",
    "print(\"Accuracy (Validation) = \", validation_accuracy)\n",
    "print(\"f1 (Validation) = \", validation_f1)\n",
    "print(\"precision (Validation) = \", validation_precision)\n",
    "print(\"recall (Validation) = \", validation_recall)"
   ]
  },
  {
   "cell_type": "code",
   "execution_count": 10,
   "id": "9d97b1c8",
   "metadata": {},
   "outputs": [
    {
     "name": "stdout",
     "output_type": "stream",
     "text": [
      "2 : 0.5326641473783655\n",
      "3 : 0.5601374570446735\n",
      "4 : 0.5669710806697108\n",
      "5 : 0.5637054354178843\n",
      "6 : 0.5469104308390024\n",
      "7 : 0.5606437697030032\n",
      "8 : 0.5707582582582582\n",
      "9 : 0.5501893939393939\n",
      "10 : 0.5602298850574712\n",
      "11 : 0.5577570577570578\n",
      "12 : 0.5608333333333334\n",
      "13 : 0.5574642748555791\n",
      "14 : 0.5768707482993197\n",
      "15 : 0.5814035087719298\n",
      "16 : 0.5740131578947368\n",
      "17 : 0.5667051134179162\n",
      "18 : 0.5637254901960784\n",
      "19 : 0.5708333333333333\n",
      "20 : 0.5747619047619048\n",
      "21 : 0.5669806384092099\n",
      "22 : 0.5681818181818181\n",
      "23 : 0.5772017837235228\n",
      "24 : 0.577724358974359\n",
      "25 : 0.5839393939393939\n",
      "26 : 0.5536130536130537\n",
      "27 : 0.5626262626262627\n",
      "28 : 0.5655844155844155\n",
      "29 : 0.5636363636363637\n"
     ]
    }
   ],
   "source": [
    "from sklearn.naive_bayes import GaussianNB\n",
    "from sklearn.model_selection import cross_val_score\n",
    "gnb = GaussianNB()\n",
    "C = []\n",
    "validation_score = []\n",
    "for c in range (2,30):\n",
    "    gnb = GaussianNB()\n",
    "    validation = cross_val_score(gnb, features, target, cv = c, scoring ='accuracy').mean()\n",
    "    validation_score.append(validation)\n",
    "    C.append(c)\n",
    "C_score = dict(zip(C, validation_score))\n",
    "for keys, values in C_score.items():\n",
    "    print(keys, \":\", values)"
   ]
  },
  {
   "cell_type": "markdown",
   "id": "1e74b43f",
   "metadata": {},
   "source": [
    "the best Cv is 25 in Gaussian Naive bayes"
   ]
  },
  {
   "cell_type": "code",
   "execution_count": 12,
   "id": "8deb89bb",
   "metadata": {},
   "outputs": [
    {
     "name": "stdout",
     "output_type": "stream",
     "text": [
      "Accuracy (Validation) =  0.5839393939393939\n",
      "f1 (Validation) =  0.5302513042513042\n",
      "precision (Validation) =  0.564952380952381\n",
      "recall (Validation) =  0.524\n"
     ]
    }
   ],
   "source": [
    "gnb.fit(features, target)\n",
    "validation_f1 = cross_val_score(gnb, features, target, scoring = 'f1', cv =25).mean()\n",
    "validation_precision = cross_val_score(gnb, features, target, scoring = 'precision', cv =25).mean()\n",
    "validation_recall = cross_val_score(gnb, features, target, scoring = 'recall', cv =25).mean()\n",
    "validation_accuracy = cross_val_score(gnb, features, target, scoring = 'accuracy', cv =25).mean()\n",
    "print(\"Accuracy (Validation) = \", validation_accuracy)\n",
    "print(\"f1 (Validation) = \", validation_f1)\n",
    "print(\"precision (Validation) = \", validation_precision)\n",
    "print(\"recall (Validation) = \", validation_recall)"
   ]
  },
  {
   "cell_type": "code",
   "execution_count": 21,
   "id": "0920b1b8",
   "metadata": {},
   "outputs": [
    {
     "name": "stdout",
     "output_type": "stream",
     "text": [
      "2 : 0.567005196032121\n",
      "3 : 0.5807560137457044\n",
      "4 : 0.5635464231354643\n",
      "5 : 0.5636469900642899\n",
      "6 : 0.5639172335600907\n",
      "7 : 0.5637132901941265\n",
      "8 : 0.5810810810810811\n",
      "9 : 0.5501893939393939\n",
      "10 : 0.5844827586206895\n",
      "11 : 0.5675990675990676\n",
      "12 : 0.5609722222222222\n",
      "13 : 0.5744907266646397\n",
      "14 : 0.5561224489795918\n",
      "15 : 0.5710526315789473\n",
      "16 : 0.5710891812865497\n",
      "17 : 0.5607458669742407\n",
      "18 : 0.5745506535947712\n",
      "19 : 0.5782894736842105\n",
      "20 : 0.5819047619047619\n",
      "21 : 0.5559916274201988\n",
      "22 : 0.5821678321678322\n",
      "23 : 0.5772017837235229\n",
      "24 : 0.5649038461538461\n",
      "25 : 0.566969696969697\n",
      "26 : 0.5789627039627039\n",
      "27 : 0.5680134680134681\n",
      "28 : 0.5720779220779221\n",
      "29 : 0.5567398119122258\n",
      "30 : 0.5592592592592592\n"
     ]
    }
   ],
   "source": [
    "from sklearn.svm import SVC\n",
    "C = []\n",
    "validation_score = []\n",
    "for c in range (2,31):\n",
    "    svmlinear = SVC(kernel = 'linear', C = 1)\n",
    "    validation = cross_val_score(svmlinear, features, target, cv = c, scoring ='accuracy').mean()\n",
    "    validation_score.append(validation)\n",
    "    C.append(c)\n",
    "C_score = dict(zip(C, validation_score))\n",
    "for keys, values in C_score.items():\n",
    "    print(keys, \":\", values)"
   ]
  },
  {
   "cell_type": "markdown",
   "id": "7172c044",
   "metadata": {},
   "source": [
    "the best crossfold is 10"
   ]
  },
  {
   "cell_type": "code",
   "execution_count": 22,
   "id": "73d099a2",
   "metadata": {},
   "outputs": [
    {
     "data": {
      "text/plain": [
       "{'C': 1}"
      ]
     },
     "execution_count": 22,
     "metadata": {},
     "output_type": "execute_result"
    }
   ],
   "source": [
    "from sklearn.svm import SVC\n",
    "# Import GridSearch from the sklearn library\n",
    "from sklearn.model_selection import GridSearchCV\n",
    "# The param_grid specifies one grid should be explored\n",
    "param_grid = {'C': [1, 10, 100, 1000]}\n",
    "# Fit on the dataset on all parameter combinations in param_grid\n",
    "# Retain the best combination\n",
    "grid_search = GridSearchCV(SVC(kernel = 'linear'), param_grid, cv = 10)\n",
    "grid_result = grid_search.fit(features, target)\n",
    "grid_result\n",
    "grid_result.best_params_"
   ]
  },
  {
   "cell_type": "code",
   "execution_count": 24,
   "id": "cfc4bf3c",
   "metadata": {},
   "outputs": [
    {
     "name": "stdout",
     "output_type": "stream",
     "text": [
      "Accuracy (Validation) =  0.5844827586206895\n",
      "f1 (Validation) =  0.5180268459398893\n",
      "precision (Validation) =  0.5688598819481172\n",
      "recall (Validation) =  0.4950549450549451\n"
     ]
    }
   ],
   "source": [
    "svmlinear = SVC(kernel = 'linear', C = 1)\n",
    "svmlinear.fit(features, target)\n",
    "validation_f1 = cross_val_score(svmlinear, features, target, scoring = 'f1', cv =10).mean()\n",
    "validation_precision = cross_val_score(svmlinear, features, target, scoring = 'precision', cv =10).mean()\n",
    "validation_recall = cross_val_score(svmlinear, features, target, scoring = 'recall', cv =10).mean()\n",
    "validation_accuracy = cross_val_score(svmlinear, features, target, scoring = 'accuracy', cv =10).mean()\n",
    "print(\"Accuracy (Validation) = \", validation_accuracy)\n",
    "print(\"f1 (Validation) = \", validation_f1)\n",
    "print(\"precision (Validation) = \", validation_precision)\n",
    "print(\"recall (Validation) = \", validation_recall)"
   ]
  },
  {
   "cell_type": "code",
   "execution_count": 15,
   "id": "252cf974",
   "metadata": {},
   "outputs": [
    {
     "name": "stdout",
     "output_type": "stream",
     "text": [
      "2 : 0.5774208786017949\n",
      "3 : 0.5704467353951891\n",
      "4 : 0.5807648401826484\n",
      "5 : 0.584395090590298\n",
      "6 : 0.5911989795918368\n",
      "7 : 0.5878546540567446\n",
      "8 : 0.5914977477477477\n",
      "9 : 0.5782828282828283\n",
      "10 : 0.5811494252873562\n",
      "11 : 0.5811965811965812\n",
      "12 : 0.5850000000000001\n",
      "13 : 0.60261477652782\n",
      "14 : 0.6181972789115646\n",
      "15 : 0.6096491228070176\n",
      "16 : 0.6123903508771931\n",
      "17 : 0.5915032679738562\n",
      "18 : 0.616421568627451\n",
      "19 : 0.5958333333333333\n",
      "20 : 0.5897619047619047\n",
      "21 : 0.6153846153846152\n",
      "22 : 0.6156343656343655\n",
      "23 : 0.6120401337792643\n",
      "24 : 0.6225961538461539\n",
      "25 : 0.6154545454545454\n",
      "26 : 0.6022727272727273\n",
      "27 : 0.6131313131313131\n",
      "28 : 0.6172077922077923\n",
      "29 : 0.6188087774294672\n",
      "30 : 0.6225925925925927\n"
     ]
    }
   ],
   "source": [
    "from sklearn.svm import SVC\n",
    "C = []\n",
    "validation_score = []\n",
    "for c in range (2,31):\n",
    "    svmpoly = SVC(kernel = 'poly', C = 10)\n",
    "    validation = cross_val_score(svmpoly, features, target, cv = c, scoring ='accuracy').mean()\n",
    "    validation_score.append(validation)\n",
    "    C.append(c)\n",
    "C_score = dict(zip(C, validation_score))\n",
    "for keys, values in C_score.items():\n",
    "    print(keys, \":\", values)"
   ]
  },
  {
   "cell_type": "markdown",
   "id": "0c18bf43",
   "metadata": {},
   "source": [
    "The best cv in SVM Poly is 30"
   ]
  },
  {
   "cell_type": "code",
   "execution_count": 16,
   "id": "bc9c9846",
   "metadata": {},
   "outputs": [
    {
     "data": {
      "text/plain": [
       "{'C': 10}"
      ]
     },
     "execution_count": 16,
     "metadata": {},
     "output_type": "execute_result"
    }
   ],
   "source": [
    "# Import GridSearch from the sklearn library\n",
    "from sklearn.model_selection import GridSearchCV\n",
    "# The param_grid specifies one grid should be explored\n",
    "param_grid = {'C': [1, 10, 100, 1000]}\n",
    "# Fit on the dataset on all parameter combinations in param_grid\n",
    "# Retain the best combination\n",
    "grid_search = GridSearchCV(SVC(kernel = 'poly'), param_grid, cv = 30)\n",
    "grid_result = grid_search.fit(features, target)\n",
    "grid_result\n",
    "grid_result.best_params_"
   ]
  },
  {
   "cell_type": "code",
   "execution_count": 17,
   "id": "4d70c2e7",
   "metadata": {},
   "outputs": [
    {
     "name": "stdout",
     "output_type": "stream",
     "text": [
      "Accuracy (Validation) =  0.6225925925925927\n",
      "f1 (Validation) =  0.597081807081807\n",
      "precision (Validation) =  0.5757539682539683\n",
      "recall (Validation) =  0.6566666666666667\n"
     ]
    }
   ],
   "source": [
    "svmpoly = SVC(kernel = 'poly', C = 10)\n",
    "svmpoly.fit(features, target)\n",
    "validation_f1 = cross_val_score(svmpoly, features, target, scoring = 'f1', cv =30).mean()\n",
    "validation_precision = cross_val_score(svmpoly, features, target, scoring = 'precision', cv =30).mean()\n",
    "validation_recall = cross_val_score(svmpoly, features, target, scoring = 'recall', cv =30).mean()\n",
    "validation_accuracy = cross_val_score(svmpoly, features, target, scoring = 'accuracy', cv =30).mean()\n",
    "print(\"Accuracy (Validation) = \", validation_accuracy)\n",
    "print(\"f1 (Validation) = \", validation_f1)\n",
    "print(\"precision (Validation) = \", validation_precision)\n",
    "print(\"recall (Validation) = \", validation_recall)"
   ]
  },
  {
   "cell_type": "code",
   "execution_count": 22,
   "id": "50c3fd4a",
   "metadata": {},
   "outputs": [
    {
     "name": "stdout",
     "output_type": "stream",
     "text": [
      "2 : 0.5979924421350968\n",
      "3 : 0.6013745704467355\n",
      "4 : 0.6149638508371384\n",
      "5 : 0.5841613091759206\n",
      "6 : 0.5911989795918368\n",
      "7 : 0.5984735357557657\n",
      "8 : 0.6151463963963963\n",
      "9 : 0.5702861952861953\n",
      "10 : 0.6012643678160919\n",
      "11 : 0.6047656047656047\n",
      "12 : 0.5947222222222223\n",
      "13 : 0.6017026451809061\n",
      "14 : 0.6074829931972789\n",
      "15 : 0.5950877192982457\n",
      "16 : 0.5910087719298245\n",
      "17 : 0.5945790080738177\n",
      "18 : 0.6149918300653595\n",
      "19 : 0.6083333333333333\n",
      "20 : 0.6054761904761905\n",
      "21 : 0.6075353218210362\n",
      "22 : 0.6113886113886114\n",
      "23 : 0.5905797101449275\n",
      "24 : 0.5948183760683762\n",
      "25 : 0.6003030303030303\n",
      "26 : 0.6019813519813519\n",
      "27 : 0.5851851851851853\n",
      "28 : 0.5922077922077922\n",
      "29 : 0.5978056426332288\n",
      "30 : 0.5892592592592591\n"
     ]
    }
   ],
   "source": [
    "from sklearn.svm import SVC\n",
    "C = []\n",
    "validation_score = []\n",
    "for c in range (2,31):\n",
    "    svmrbf = SVC(kernel = 'rbf', C = 1)\n",
    "    validation = cross_val_score(svmrbf, features, target, cv = c, scoring ='accuracy').mean()\n",
    "    validation_score.append(validation)\n",
    "    C.append(c)\n",
    "C_score = dict(zip(C, validation_score))\n",
    "for keys, values in C_score.items():\n",
    "    print(keys, \":\", values)"
   ]
  },
  {
   "cell_type": "markdown",
   "id": "5eaabb6e",
   "metadata": {},
   "source": [
    "The best cv is 8 in SVM RBF"
   ]
  },
  {
   "cell_type": "code",
   "execution_count": 23,
   "id": "18ea7545",
   "metadata": {},
   "outputs": [
    {
     "data": {
      "text/plain": [
       "{'C': 1}"
      ]
     },
     "execution_count": 23,
     "metadata": {},
     "output_type": "execute_result"
    }
   ],
   "source": [
    "# Import GridSearch from the sklearn library\n",
    "from sklearn.model_selection import GridSearchCV\n",
    "# The param_grid specifies one grid should be explored\n",
    "param_grid = {'C': [1, 10, 100, 1000]}\n",
    "# Fit on the dataset on all parameter combinations in param_grid\n",
    "# Retain the best combination\n",
    "grid_search = GridSearchCV(SVC(kernel = 'rbf'), param_grid, cv = 8)\n",
    "grid_result = grid_search.fit(features, target)\n",
    "grid_result\n",
    "grid_result.best_params_"
   ]
  },
  {
   "cell_type": "code",
   "execution_count": 24,
   "id": "940ab0f6",
   "metadata": {},
   "outputs": [
    {
     "name": "stdout",
     "output_type": "stream",
     "text": [
      "Accuracy (Validation) =  0.6151463963963963\n",
      "f1 (Validation) =  0.5705147283272283\n",
      "precision (Validation) =  0.6031897926634768\n",
      "recall (Validation) =  0.5588235294117647\n"
     ]
    }
   ],
   "source": [
    "svmrbf = SVC(kernel = 'rbf', C = 1)\n",
    "svmrbf.fit(features, target)\n",
    "validation_f1 = cross_val_score(svmrbf, features, target, scoring = 'f1', cv =8).mean()\n",
    "validation_precision = cross_val_score(svmrbf, features, target, scoring = 'precision', cv =8).mean()\n",
    "validation_recall = cross_val_score(svmrbf, features, target, scoring = 'recall', cv =8).mean()\n",
    "validation_accuracy = cross_val_score(svmrbf, features, target, scoring = 'accuracy', cv =8).mean()\n",
    "print(\"Accuracy (Validation) = \", validation_accuracy)\n",
    "print(\"f1 (Validation) = \", validation_f1)\n",
    "print(\"precision (Validation) = \", validation_precision)\n",
    "print(\"recall (Validation) = \", validation_recall)"
   ]
  },
  {
   "cell_type": "code",
   "execution_count": 26,
   "id": "42b12fd6",
   "metadata": {},
   "outputs": [
    {
     "name": "stdout",
     "output_type": "stream",
     "text": [
      "2 : 0.5705951818611242\n",
      "3 : 0.5532646048109966\n",
      "4 : 0.5667808219178082\n",
      "5 : 0.5328462887200468\n",
      "6 : 0.5320294784580498\n",
      "7 : 0.5457939273270284\n",
      "8 : 0.5253378378378378\n",
      "9 : 0.5186237373737375\n",
      "10 : 0.5224137931034483\n",
      "11 : 0.5212380212380212\n",
      "12 : 0.5190277777777778\n",
      "13 : 0.5148981453329279\n",
      "14 : 0.5181972789115646\n",
      "15 : 0.5247368421052631\n",
      "16 : 0.5124269005847952\n",
      "17 : 0.5261437908496732\n",
      "18 : 0.5302287581699345\n",
      "19 : 0.5221491228070175\n",
      "20 : 0.5309523809523811\n",
      "21 : 0.5251177394034536\n",
      "22 : 0.5164835164835165\n",
      "23 : 0.5027870680044593\n",
      "24 : 0.5026709401709403\n",
      "25 : 0.513030303030303\n",
      "26 : 0.5198135198135199\n",
      "27 : 0.5077441077441077\n",
      "28 : 0.5035714285714286\n",
      "29 : 0.5090909090909091\n",
      "30 : 0.5070370370370371\n"
     ]
    }
   ],
   "source": [
    "from sklearn.svm import SVC\n",
    "C = []\n",
    "validation_score = []\n",
    "for c in range (2,31):\n",
    "    svmsig = SVC(kernel = 'sigmoid', C = 1)\n",
    "    validation = cross_val_score(svmsig, features, target, cv = c, scoring ='accuracy').mean()\n",
    "    validation_score.append(validation)\n",
    "    C.append(c)\n",
    "C_score = dict(zip(C, validation_score))\n",
    "for keys, values in C_score.items():\n",
    "    print(keys, \":\", values)"
   ]
  },
  {
   "cell_type": "markdown",
   "id": "81cd2191",
   "metadata": {},
   "source": [
    "the best cv in SVM sigmoid is 7"
   ]
  },
  {
   "cell_type": "code",
   "execution_count": 26,
   "id": "2b8d9886",
   "metadata": {},
   "outputs": [
    {
     "data": {
      "text/plain": [
       "{'C': 1}"
      ]
     },
     "execution_count": 26,
     "metadata": {},
     "output_type": "execute_result"
    }
   ],
   "source": [
    "# Import GridSearch from the sklearn library\n",
    "from sklearn.model_selection import GridSearchCV\n",
    "# The param_grid specifies one grid should be explored\n",
    "param_grid = {'C': [1, 10, 100, 1000]}\n",
    "# Fit on the dataset on all parameter combinations in param_grid\n",
    "# Retain the best combination\n",
    "grid_search = GridSearchCV(SVC(kernel = 'sigmoid'), param_grid, cv = 7)\n",
    "grid_result = grid_search.fit(features, target)\n",
    "grid_result\n",
    "grid_result.best_params_"
   ]
  },
  {
   "cell_type": "code",
   "execution_count": 27,
   "id": "0345ceed",
   "metadata": {},
   "outputs": [
    {
     "name": "stdout",
     "output_type": "stream",
     "text": [
      "Accuracy (Validation) =  0.5457939273270284\n",
      "f1 (Validation) =  0.3820907673414193\n",
      "precision (Validation) =  0.49659863945578225\n",
      "recall (Validation) =  0.31992481203007517\n"
     ]
    }
   ],
   "source": [
    "svmrbf = SVC(kernel = 'sigmoid', C = 1)\n",
    "svmrbf.fit(features, target)\n",
    "validation_f1 = cross_val_score(svmrbf, features, target, scoring = 'f1', cv =7).mean()\n",
    "validation_precision = cross_val_score(svmrbf, features, target, scoring = 'precision', cv =7).mean()\n",
    "validation_recall = cross_val_score(svmrbf, features, target, scoring = 'recall', cv =7).mean()\n",
    "validation_accuracy = cross_val_score(svmrbf, features, target, scoring = 'accuracy', cv =7).mean()\n",
    "print(\"Accuracy (Validation) = \", validation_accuracy)\n",
    "print(\"f1 (Validation) = \", validation_f1)\n",
    "print(\"precision (Validation) = \", validation_precision)\n",
    "print(\"recall (Validation) = \", validation_recall)"
   ]
  },
  {
   "cell_type": "code",
   "execution_count": 18,
   "id": "c73a33a8",
   "metadata": {},
   "outputs": [],
   "source": [
    "# Import pickle\n",
    "import pickle\n",
    "# Specify the file name to save the model\n",
    "# Use filename='freq_model.sav' for Freq-PHO-Binary\n",
    "# Use filename='norm_model.sav' for Norm-PHO-Binary\n",
    "filename='norm_model.sav'\n",
    "# Open the file name in write mode. Pass the filename and model.\n",
    "# Replace modelname with the name of your model\n",
    "pickle.dump(svmpoly, open(filename, 'wb'))"
   ]
  },
  {
   "cell_type": "code",
   "execution_count": null,
   "id": "c95f1c1a",
   "metadata": {},
   "outputs": [],
   "source": []
  },
  {
   "cell_type": "code",
   "execution_count": null,
   "id": "1725d98f",
   "metadata": {},
   "outputs": [],
   "source": []
  }
 ],
 "metadata": {
  "kernelspec": {
   "display_name": "Python 3 (ipykernel)",
   "language": "python",
   "name": "python3"
  },
  "language_info": {
   "codemirror_mode": {
    "name": "ipython",
    "version": 3
   },
   "file_extension": ".py",
   "mimetype": "text/x-python",
   "name": "python",
   "nbconvert_exporter": "python",
   "pygments_lexer": "ipython3",
   "version": "3.8.8"
  }
 },
 "nbformat": 4,
 "nbformat_minor": 5
}
